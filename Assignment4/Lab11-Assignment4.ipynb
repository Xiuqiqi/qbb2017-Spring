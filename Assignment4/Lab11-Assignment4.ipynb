{
 "cells": [
  {
   "cell_type": "markdown",
   "metadata": {},
   "source": [
    "# Assignment 4\n",
    "## Xiuqi Chen\n",
    "## 4.28.2017"
   ]
  },
  {
   "cell_type": "code",
   "execution_count": 62,
   "metadata": {
    "collapsed": true
   },
   "outputs": [],
   "source": [
    "# Standard iPython notebook preamble.\n",
    "%matplotlib inline\n",
    "from __future__ import division\n",
    "import matplotlib\n",
    "import numpy as np\n",
    "from pylab import *\n",
    "matplotlib.rcParams.update({\"axes.formatter.limits\": (-3,3)})\n",
    "plotStyles={\"markersize\":10,\"markeredgewidth\":2.0,\"linewidth\":2.0}"
   ]
  },
  {
   "cell_type": "markdown",
   "metadata": {},
   "source": [
    "## Problem 1"
   ]
  },
  {
   "cell_type": "code",
   "execution_count": 63,
   "metadata": {},
   "outputs": [],
   "source": [
    "blosum50={}\n",
    "f=open(\"blosum50.txt\")\n",
    "aa_codes=f.readline().split()\n",
    "for line in f:\n",
    "    values=line.split()\n",
    "    row=values[0]\n",
    "    values=values[1:]\n",
    "    for index in range(0,len(aa_codes)):\n",
    "        blosum50[row,aa_codes[index]]=float(values[index])\n",
    "f.close()\n",
    "\n",
    "q = 1/float(len(aa_codes))\n",
    "\n",
    "prob_ab=blosum50\n",
    "\n",
    "#print aa_codes\n",
    "\n",
    "for i in range(0,len(aa_codes)):\n",
    "    for j in range(0,len(aa_codes)):\n",
    "        prob_ab[aa_codes[i],aa_codes[j]]=q*q*2**(blosum50[aa_codes[i],aa_codes[j]]/3)\n",
    "\n",
    "# The possibility of seeing any individual amino acid is the same. \n",
    "\n"
   ]
  },
  {
   "cell_type": "markdown",
   "metadata": {},
   "source": [
    "## Problem 2"
   ]
  },
  {
   "cell_type": "code",
   "execution_count": 64,
   "metadata": {
    "collapsed": true
   },
   "outputs": [],
   "source": [
    "prob_sum=0.0\n",
    "for key, value in prob_ab.items():\n",
    "    prob_sum += value\n",
    "for key, value in prob_ab.items():\n",
    "    prob_ab[key] /= prob_sum\n",
    "trans_ab={}\n",
    "for a in aa_codes:\n",
    "    row_sum=0.0\n",
    "    for b in aa_codes:\n",
    "        row_sum += prob_ab[a,b]\n",
    "    for b in aa_codes:\n",
    "        trans_ab[a,b] = prob_ab[a,b]/row_sum"
   ]
  },
  {
   "cell_type": "code",
   "execution_count": 99,
   "metadata": {},
   "outputs": [
    {
     "name": "stdout",
     "output_type": "stream",
     "text": [
      "The prob_ab Matrix is Normalized\n",
      "The A Row is Normalized\n",
      "The R Row is Normalized\n",
      "The N Row is Normalized\n",
      "The D Row is Normalized\n",
      "The C Row is Normalized\n",
      "The Q Row is Normalized\n",
      "The E Row is Normalized\n",
      "The G Row is Normalized\n",
      "The H Row is Normalized\n",
      "The I Row is Normalized\n",
      "The L Row is Normalized\n",
      "The K Row is Normalized\n",
      "The M Row is Normalized\n",
      "The F Row is Normalized\n",
      "The P Row is Normalized\n",
      "The S Row is Normalized\n",
      "The T Row is Normalized\n",
      "The W Row is Normalized\n",
      "The Y Row is Normalized\n",
      "The V Row is Normalized\n",
      "The - Row is Normalized\n"
     ]
    }
   ],
   "source": [
    "prob_sum=0.0\n",
    "for key, value in prob_ab.items():\n",
    "    prob_sum += value\n",
    "\n",
    "if abs(prob_sum-1.0)<10**-14:\n",
    "    print 'The prob_ab Matrix is Normalized'\n",
    "else:\n",
    "    print 'The prob_ab Matrix is NOT Normalized'\n",
    "\n",
    "for i in aa_codes:\n",
    "    sum=0.0\n",
    "    for key, value in dict((i, trans_ab[i, j]) for j in aa_codes).items():\n",
    "        sum +=value\n",
    "    \n",
    "    if abs(prob_sum-1.0)<10**-14:\n",
    "        print 'The {} Row is Normalized'.format(i)\n",
    "    else:\n",
    "        print 'The prob_ab Matrix is NOT Normalized'\n",
    "    "
   ]
  },
  {
   "cell_type": "markdown",
   "metadata": {},
   "source": [
    "# Problem 3"
   ]
  },
  {
   "cell_type": "code",
   "execution_count": 134,
   "metadata": {
    "collapsed": true
   },
   "outputs": [],
   "source": [
    "sequence=list(\"CGSWVMKEHLVRPYLNMKGLRGIQQFYKYCITYQNDHMKPMTVREPGPQTIHGACYVNRKFTNQLPGWFGQKKGQLNVNVPNGWKADKWCVSFAPTNPSV\")\n",
    "f = open('seqs.fasta','w')\n",
    "f.write(\">original\\n\")\n",
    "for r in sequence:\n",
    "    f.write(r)\n",
    "f.write(\"\\n\")\n",
    "f.close()"
   ]
  },
  {
   "cell_type": "code",
   "execution_count": 135,
   "metadata": {},
   "outputs": [],
   "source": [
    "def mutate(aa):\n",
    "    prob=[]\n",
    "    for i in aa_codes:\n",
    "        prob.append(trans_ab[aa,i])\n",
    "    new_aa=np.random.choice(aa_codes, p=prob)\n",
    "    return new_aa\n",
    "    \n",
    "#print mutate('T')"
   ]
  },
  {
   "cell_type": "code",
   "execution_count": 136,
   "metadata": {},
   "outputs": [],
   "source": [
    "f = open('seqs.fasta','a')\n",
    "for i in range(0,100):\n",
    "    f.write(\">RandomMutationSeq_{}\\n\".format(i+1))\n",
    "    for r in sequence:\n",
    "        f.write(mutate(r))\n",
    "    f.write(\"\\n\")\n",
    "    \n",
    "f.close()"
   ]
  },
  {
   "cell_type": "markdown",
   "metadata": {},
   "source": [
    "# Problem 4\n",
    "\n",
    "I think the alignment went very fast.\n",
    "\n",
    "MAFFT seems more stringent for the alignment, creating many gaps in the sequence.\n",
    "\n",
    "The other three tools tend to be more tolerate and align the mutations.\n",
    "\n",
    "This doesn't seem to be a fair test of an alignment server's accuracy since the standard is confusing right now.\n",
    "\n",
    "The standard should depend on the purpose of the alignment that the tool is designed for and whether they are good at it. The alignment might be for mapping purpose, then obviously MAFFT is doing better, but if it is for phylogenetic analysis, we do need more tolerace for mutations, thus the other servers are more appropriate.\n",
    "\n",
    "```\n",
    "# MAFFT\n",
    "original        ----------------CG---------------------------SW-------VMKEHL\n",
    "RandomMutationS ----------------EN---------------------------KW-------EIPKQL\n",
    "\n",
    "# T-COFFEE\n",
    "\n",
    "RandomMutationSeq_99   NSGWIIRDELVRQSLNPKHWWQISRSYKYC-PYQNAHIAPATYAHPKETT\n",
    "original               CGSWVMKEHLVRPYLNMKGLRGIQQFYKYCITYQNDHMKPMTVREPGPQT\n",
    "\n",
    "```\n",
    "\n",
    "\n"
   ]
  }
 ],
 "metadata": {
  "kernelspec": {
   "display_name": "Python 2",
   "language": "python",
   "name": "python2"
  },
  "language_info": {
   "codemirror_mode": {
    "name": "ipython",
    "version": 2
   },
   "file_extension": ".py",
   "mimetype": "text/x-python",
   "name": "python",
   "nbconvert_exporter": "python",
   "pygments_lexer": "ipython2",
   "version": "2.7.12"
  }
 },
 "nbformat": 4,
 "nbformat_minor": 2
}
